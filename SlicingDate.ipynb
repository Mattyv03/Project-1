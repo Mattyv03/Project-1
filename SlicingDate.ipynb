{
  "nbformat": 4,
  "nbformat_minor": 0,
  "metadata": {
    "colab": {
      "provenance": [],
      "authorship_tag": "ABX9TyNVrGxekEnFoKlpyhq6d/9E",
      "include_colab_link": true
    },
    "kernelspec": {
      "name": "python3",
      "display_name": "Python 3"
    },
    "language_info": {
      "name": "python"
    }
  },
  "cells": [
    {
      "cell_type": "markdown",
      "metadata": {
        "id": "view-in-github",
        "colab_type": "text"
      },
      "source": [
        "<a href=\"https://colab.research.google.com/github/Mattyv03/Project-1/blob/main/SlicingDate.ipynb\" target=\"_parent\"><img src=\"https://colab.research.google.com/assets/colab-badge.svg\" alt=\"Open In Colab\"/></a>"
      ]
    },
    {
      "cell_type": "code",
      "execution_count": 4,
      "metadata": {
        "colab": {
          "base_uri": "https://localhost:8080/"
        },
        "id": "eID2Bnauo2WA",
        "outputId": "7b213b4a-2761-4b24-d536-cac2ed6fc432"
      },
      "outputs": [
        {
          "output_type": "stream",
          "name": "stdout",
          "text": [
            "Enter a date in MM/DD/YYYY format: 07/04/2003\n",
            "Month:  07\n",
            "Day:  04\n",
            "Year:  2003\n"
          ]
        }
      ],
      "source": [
        "date = str(input(\"Enter a date in MM/DD/YYYY format: \"))\n",
        "\n",
        "s = date\n",
        "\n",
        "Month = s[:2]\n",
        "Day = s[3:5]\n",
        "Year = s[6:10]\n",
        "\n",
        "print(\"Month: \", Month)\n",
        "print(\"Day: \", Day)\n",
        "print(\"Year: \", Year)"
      ]
    }
  ]
}