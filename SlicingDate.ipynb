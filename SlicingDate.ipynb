{
  "nbformat": 4,
  "nbformat_minor": 0,
  "metadata": {
    "colab": {
      "provenance": [],
      "authorship_tag": "ABX9TyM7rpuamkfqSEdurRLV3C3B",
      "include_colab_link": true
    },
    "kernelspec": {
      "name": "python3",
      "display_name": "Python 3"
    },
    "language_info": {
      "name": "python"
    }
  },
  "cells": [
    {
      "cell_type": "markdown",
      "metadata": {
        "id": "view-in-github",
        "colab_type": "text"
      },
      "source": [
        "<a href=\"https://colab.research.google.com/github/Mattyv03/Project-1/blob/main/SlicingDate.ipynb\" target=\"_parent\"><img src=\"https://colab.research.google.com/assets/colab-badge.svg\" alt=\"Open In Colab\"/></a>"
      ]
    },
    {
      "cell_type": "code",
      "execution_count": 6,
      "metadata": {
        "colab": {
          "base_uri": "https://localhost:8080/"
        },
        "id": "eID2Bnauo2WA",
        "outputId": "28b50927-ba59-4f90-aa79-5410c0a01a91"
      },
      "outputs": [
        {
          "output_type": "stream",
          "name": "stdout",
          "text": [
            "Enter a date in MM/DD/YYYY format: 07/04/2003\n",
            "Month:  07\n",
            "Day:  04\n",
            "Year:  2003\n"
          ]
        }
      ],
      "source": [
        "date = str(input(\"Enter a date in MM/DD/YYYY format: \"))\n",
        "\n",
        "Month = date[:2]\n",
        "Day = date[3:5]\n",
        "Year = date[6:10]\n",
        "\n",
        "print(\"Month: \",Month)\n",
        "print(\"Day: \",Day)\n",
        "print(\"Year: \",Year)"
      ]
    }
  ]
}