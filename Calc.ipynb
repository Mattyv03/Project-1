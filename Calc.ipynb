{
  "cells": [
    {
      "cell_type": "markdown",
      "metadata": {
        "id": "view-in-github",
        "colab_type": "text"
      },
      "source": [
        "<a href=\"https://colab.research.google.com/github/Mattyv03/Project-1/blob/main/Calc.ipynb\" target=\"_parent\"><img src=\"https://colab.research.google.com/assets/colab-badge.svg\" alt=\"Open In Colab\"/></a>"
      ]
    },
    {
      "cell_type": "code",
      "execution_count": 13,
      "metadata": {
        "colab": {
          "base_uri": "https://localhost:8080/"
        },
        "id": "x-lkBe3XdK5_",
        "outputId": "435fffa7-50b1-4785-e3a6-80344d500043"
      },
      "outputs": [
        {
          "output_type": "stream",
          "name": "stdout",
          "text": [
            "This is a calculator.\n",
            "What type of math would you like to do (please enter +,-,*,/,//,%,**)? Type 'break' when finished to\n",
            "What is your first number? 4\n",
            "What is your second number? 5\n",
            "Invalid Operator\n",
            "What type of math would you like to do (please enter +,-,*,/,//,%,**)? Type 'break' when finished break\n",
            "Thank You!\n"
          ]
        }
      ],
      "source": [
        "choice = \"yes\"\n",
        "print(\"This is a calculator.\")\n",
        "\n",
        "while choice != \"break\":\n",
        "  operator = str(input(\"What type of math would you like to do (please enter +,-,*,/,//,%,**)? Type 'break' when finished: \"))\n",
        "  if operator == 'break':\n",
        "    print(\"Thank You!\")\n",
        "    break\n",
        "  var1 = int(input(\"What is your first number? \"))\n",
        "  var2 = int(input(\"What is your second number? \"))\n",
        "  if operator == \"+\":\n",
        "    print(var1+var2)\n",
        "  elif operator == \"-\":\n",
        "    print(var1-var2)\n",
        "  elif operator == \"*\":\n",
        "    print(var1*var2)\n",
        "  elif operator == \"/\":\n",
        "    print(var1/var2)\n",
        "  elif operator == \"//\":\n",
        "    print(var1//var2)\n",
        "  elif operator == \"%\":\n",
        "    print(var1%var2)\n",
        "  elif operator == \"**\":\n",
        "    print(var1**var2)\n",
        "  else:\n",
        "    print(\"Invalid Operator\")\n",
        "    continue"
      ]
    }
  ],
  "metadata": {
    "colab": {
      "provenance": [],
      "authorship_tag": "ABX9TyPiyKonuLFzFHPY4AnSZJrO",
      "include_colab_link": true
    },
    "kernelspec": {
      "display_name": "Python 3",
      "name": "python3"
    },
    "language_info": {
      "name": "python"
    }
  },
  "nbformat": 4,
  "nbformat_minor": 0
}