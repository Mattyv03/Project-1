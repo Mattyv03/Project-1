{
  "nbformat": 4,
  "nbformat_minor": 0,
  "metadata": {
    "colab": {
      "provenance": [],
      "authorship_tag": "ABX9TyMkNlwvHmvJovflXH6kViKm",
      "include_colab_link": true
    },
    "kernelspec": {
      "name": "python3",
      "display_name": "Python 3"
    },
    "language_info": {
      "name": "python"
    }
  },
  "cells": [
    {
      "cell_type": "markdown",
      "metadata": {
        "id": "view-in-github",
        "colab_type": "text"
      },
      "source": [
        "<a href=\"https://colab.research.google.com/github/Mattyv03/Project-1/blob/main/DepositIR.ipynb\" target=\"_parent\"><img src=\"https://colab.research.google.com/assets/colab-badge.svg\" alt=\"Open In Colab\"/></a>"
      ]
    },
    {
      "cell_type": "code",
      "execution_count": 1,
      "metadata": {
        "colab": {
          "base_uri": "https://localhost:8080/"
        },
        "id": "bqoLyWw7Qdnx",
        "outputId": "43479bcf-fabe-441a-d5e3-fd1f038212f1"
      },
      "outputs": [
        {
          "output_type": "stream",
          "name": "stdout",
          "text": [
            "Enter your name: Matt\n",
            "Enter customer type (n: new, e: existing): e\n",
            "Enter deposit amount: 7400\n",
            "7640.5\n"
          ]
        }
      ],
      "source": [
        "name = input('Enter your name: ')\n",
        "customer_type = input('Enter customer type (n: new, e: existing): ')\n",
        "deposit = float(input(\"Enter deposit amount: \"))\n",
        "\n",
        "if customer_type == 'n':\n",
        "  interest = .03\n",
        "else:\n",
        "  if deposit <= 1000:\n",
        "    interest = .03\n",
        "  elif deposit <= 10000:\n",
        "    interest = .0325\n",
        "  elif deposit > 10000:\n",
        "    interest = .035\n",
        "\n",
        "total = (1 + interest) * deposit\n",
        "print(total)"
      ]
    }
  ]
}