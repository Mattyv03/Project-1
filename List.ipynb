{
  "nbformat": 4,
  "nbformat_minor": 0,
  "metadata": {
    "colab": {
      "provenance": [],
      "authorship_tag": "ABX9TyPl0q9mPzS6lBtu799Mcb7h",
      "include_colab_link": true
    },
    "kernelspec": {
      "name": "python3",
      "display_name": "Python 3"
    },
    "language_info": {
      "name": "python"
    }
  },
  "cells": [
    {
      "cell_type": "markdown",
      "metadata": {
        "id": "view-in-github",
        "colab_type": "text"
      },
      "source": [
        "<a href=\"https://colab.research.google.com/github/Mattyv03/Project-1/blob/main/List.ipynb\" target=\"_parent\"><img src=\"https://colab.research.google.com/assets/colab-badge.svg\" alt=\"Open In Colab\"/></a>"
      ]
    },
    {
      "cell_type": "code",
      "execution_count": 4,
      "metadata": {
        "id": "MnmeY9THG7RR",
        "colab": {
          "base_uri": "https://localhost:8080/"
        },
        "outputId": "e335749c-0beb-4431-acd5-3bb80c26cf0b"
      },
      "outputs": [
        {
          "output_type": "stream",
          "name": "stdout",
          "text": [
            "abdg\n"
          ]
        }
      ],
      "source": [
        "s1 = 'abcdefg'\n",
        "s2 = 'abdght'\n",
        "s3 = ''\n",
        "\n",
        "for item in s1:\n",
        "  for index in s2:\n",
        "    if index == item:\n",
        "      s3 += item\n",
        "\n",
        "print(s3)\n"
      ]
    }
  ]
}