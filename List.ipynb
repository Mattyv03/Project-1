{
  "nbformat": 4,
  "nbformat_minor": 0,
  "metadata": {
    "colab": {
      "provenance": [],
      "authorship_tag": "ABX9TyM3uXLqfz7EPy8mIIqqJIl9",
      "include_colab_link": true
    },
    "kernelspec": {
      "name": "python3",
      "display_name": "Python 3"
    },
    "language_info": {
      "name": "python"
    }
  },
  "cells": [
    {
      "cell_type": "markdown",
      "metadata": {
        "id": "view-in-github",
        "colab_type": "text"
      },
      "source": [
        "<a href=\"https://colab.research.google.com/github/Mattyv03/Project-1/blob/main/List.ipynb\" target=\"_parent\"><img src=\"https://colab.research.google.com/assets/colab-badge.svg\" alt=\"Open In Colab\"/></a>"
      ]
    },
    {
      "cell_type": "code",
      "source": [
        "L = []\n",
        "num = int(input(\"Enter a value: \"))\n",
        "\n",
        "while num != 0:\n",
        "  L.append(num)\n",
        "  num = int(input('Enter a value: '))\n",
        "L"
      ],
      "metadata": {
        "id": "b37qhvH5Vnat",
        "outputId": "68b4244a-e719-447c-ce0d-75cf7fdcb26b",
        "colab": {
          "base_uri": "https://localhost:8080/"
        }
      },
      "execution_count": 1,
      "outputs": [
        {
          "name": "stdout",
          "output_type": "stream",
          "text": [
            "Enter a value: 5\n",
            "Enter a value: 2\n",
            "Enter a value: 8\n",
            "Enter a value: 0\n"
          ]
        },
        {
          "output_type": "execute_result",
          "data": {
            "text/plain": [
              "[5, 2, 8]"
            ]
          },
          "metadata": {},
          "execution_count": 1
        }
      ]
    },
    {
      "cell_type": "code",
      "execution_count": null,
      "metadata": {
        "id": "MnmeY9THG7RR",
        "colab": {
          "base_uri": "https://localhost:8080/"
        },
        "outputId": "e335749c-0beb-4431-acd5-3bb80c26cf0b"
      },
      "outputs": [
        {
          "output_type": "stream",
          "name": "stdout",
          "text": [
            "abdg\n"
          ]
        }
      ],
      "source": [
        "s1 = 'abcdefg'\n",
        "s2 = 'abdght'\n",
        "s3 = ''\n",
        "\n",
        "for item in s1:\n",
        "  for index in s2:\n",
        "    if index == item:\n",
        "      s3 += item\n",
        "\n",
        "print(s3)\n"
      ]
    }
  ]
}