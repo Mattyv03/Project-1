{
  "nbformat": 4,
  "nbformat_minor": 0,
  "metadata": {
    "colab": {
      "provenance": [],
      "authorship_tag": "ABX9TyOTO07NjsoUdIHJK4duQJcR",
      "include_colab_link": true
    },
    "kernelspec": {
      "name": "python3",
      "display_name": "Python 3"
    },
    "language_info": {
      "name": "python"
    }
  },
  "cells": [
    {
      "cell_type": "markdown",
      "metadata": {
        "id": "view-in-github",
        "colab_type": "text"
      },
      "source": [
        "<a href=\"https://colab.research.google.com/github/Mattyv03/Project-1/blob/main/RPS.ipynb\" target=\"_parent\"><img src=\"https://colab.research.google.com/assets/colab-badge.svg\" alt=\"Open In Colab\"/></a>"
      ]
    },
    {
      "cell_type": "code",
      "execution_count": 19,
      "metadata": {
        "colab": {
          "base_uri": "https://localhost:8080/"
        },
        "id": "Y6cuxHgB3zSh",
        "outputId": "9fc95869-cdd5-4f51-bec3-7e583c3975a3"
      },
      "outputs": [
        {
          "name": "stdout",
          "output_type": "stream",
          "text": [
            "rock, paper, or scissors? rock\n"
          ]
        }
      ],
      "source": [
        "pc_choice = random.choice(['rock','paper','scissors'])\n",
        "\n",
        "user = input(\"rock, paper, or scissors? \")\n",
        "\n",
        "if user == 'rock' and pc_choice == 'paper':\n",
        "  print(f'The PC chose: {pc_choice}, you lose.')\n",
        "elif user == 'paper' and {pc_choice} == 'paper':\n",
        "  print(f'the PC chose: {pc_choice}, draw.')\n",
        "elif user == 'scissors' and {pc_choice} == 'paper':\n",
        "  print(f'the PC chose: {pc_choice}, you win!')\n",
        "\n",
        "if user == 'scissors' and pc_choice == 'rock':\n",
        "  print(f'The PC chose: {pc_choice}, you lose.')\n",
        "elif user == 'rock' and {pc_choice} == 'rock':\n",
        "  print(f'the PC chose: {pc_choice}, draw.')\n",
        "elif user == 'paper' and {pc_choice} == 'rock':\n",
        "  print(f'the PC chose: {pc_choice}, you win!')\n",
        "\n",
        "if user == 'paper' and pc_choice == 'scissors':\n",
        "  print(f'The PC chose: {pc_choice}, you lose.')\n",
        "elif user == 'scissors' and {pc_choice} == 'scissors':\n",
        "  print(f'the PC chose: {pc_choice}, draw.')\n",
        "elif user == 'rock' and {pc_choice} == 'scissors':\n",
        "  print(f'the PC chose: {pc_choice}, you win!')"
      ]
    },
    {
      "cell_type": "code",
      "source": [
        "pc_choice = random.choice(['rock','paper','scissors'])\n",
        "\n",
        "user = input(\"rock, paper, or scissors? \")\n",
        "\n",
        "\n",
        "if pc_choice == user:\n",
        "  print(\"The PC chose:\",pc_choice)\n",
        "  print(\"tie.\")\n",
        "\n",
        "if user == \"rock\" and pc_choice == \"scissors\" or user == \"paper\" and pc_choice == \"rock\" or user == \"scissors\" and pc_choice == \"paper\":\n",
        "  print(\"The PC chose:\",pc_choice)\n",
        "  print(\"you win!\")\n",
        "\n",
        "else:\n",
        "  print(\"The PC chose:\",pc_choice,)\n",
        "  print(\"you lose.\")"
      ],
      "metadata": {
        "colab": {
          "base_uri": "https://localhost:8080/"
        },
        "id": "FjYfqpJv844s",
        "outputId": "c2567f66-2ac8-4ef5-e039-5a67be088828"
      },
      "execution_count": 33,
      "outputs": [
        {
          "output_type": "stream",
          "name": "stdout",
          "text": [
            "rock, paper, or scissors? paper\n",
            "The PC chose: scissors\n",
            "you lose.\n"
          ]
        }
      ]
    }
  ]
}