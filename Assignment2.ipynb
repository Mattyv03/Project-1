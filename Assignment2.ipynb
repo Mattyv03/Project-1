{
  "nbformat": 4,
  "nbformat_minor": 0,
  "metadata": {
    "colab": {
      "provenance": [],
      "authorship_tag": "ABX9TyNNjgM9oxCgEGZWYd5dy94d",
      "include_colab_link": true
    },
    "kernelspec": {
      "name": "python3",
      "display_name": "Python 3"
    },
    "language_info": {
      "name": "python"
    }
  },
  "cells": [
    {
      "cell_type": "markdown",
      "metadata": {
        "id": "view-in-github",
        "colab_type": "text"
      },
      "source": [
        "<a href=\"https://colab.research.google.com/github/Mattyv03/Project-1/blob/main/Assignment2.ipynb\" target=\"_parent\"><img src=\"https://colab.research.google.com/assets/colab-badge.svg\" alt=\"Open In Colab\"/></a>"
      ]
    },
    {
      "cell_type": "code",
      "execution_count": null,
      "metadata": {
        "colab": {
          "base_uri": "https://localhost:8080/"
        },
        "id": "C6YG7qYEc7fv",
        "outputId": "900007c3-a25a-421e-ee3a-2aae5dfcc1c2"
      },
      "outputs": [
        {
          "name": "stdout",
          "output_type": "stream",
          "text": [
            "Enter number of weights: 4\n",
            "Enter a value: 2\n",
            "Enter a value: 8\n",
            "Enter a value: 5\n",
            "Enter a value: 3\n"
          ]
        },
        {
          "output_type": "execute_result",
          "data": {
            "text/plain": [
              "4.0"
            ]
          },
          "metadata": {},
          "execution_count": 4
        }
      ],
      "source": [
        "def getValues(n):\n",
        "  values = []\n",
        "  if n < 3:\n",
        "    return 'too small'\n",
        "  else:\n",
        "    for num in range(n):\n",
        "      value = float(input(\"Enter a value: \"))\n",
        "      values.append(value)\n",
        "    return values[2:]\n",
        "\n",
        "def calcAverage(alist):\n",
        "  if alist == 'too small':\n",
        "    print(\"not enough elements\")\n",
        "  else:\n",
        "    return sum(alist) / len(alist)\n",
        "\n",
        "n_values = int(input(\"Enter number of weights: \"))\n",
        "L = getValues(n_values)\n",
        "calcAverage(L)\n"
      ]
    },
    {
      "cell_type": "code",
      "source": [
        "allData = { # dictionary of values for countries\n",
        "    'US': {'pop':325.7, 'gdp':19.39, 'ccy': 'USD', 'fx': 1.0},\n",
        "    'CA': {'pop':36.5, 'gdp':1.65, 'ccy': 'CAD', 'fx': 1.35},\n",
        "    'MX': {'pop':129.2, 'gdp':1.15, 'ccy': 'MXN', 'fx': 19.68}\n",
        "    }\n",
        "\n",
        "while True:\n",
        "    country_code = input(\"Please enter a country code: \")\n",
        "    if country_code == 'exit':\n",
        "      break\n",
        "    if country_code not in allData.keys():\n",
        "      continue\n",
        "    statistic = input(\"Enter a measure name (pop, gdp, ccy, fx): \")\n",
        "    if statistic not in allData[country_code].keys():\n",
        "      continue\n",
        "\n",
        "    if statistic == 'pop':\n",
        "      print(f'Population: {allData[country_code][statistic]} million people.')\n",
        "    elif statistic == 'gdp':\n",
        "      print(f'GDP: {allData[country_code][statistic]} trillion dollars.')\n",
        "    elif statistic == 'ccy':\n",
        "      print(f'Currency: {allData[country_code][statistic]}.')\n",
        "    else:\n",
        "      print(f'FX: {allData[country_code][statistic]}.')"
      ],
      "metadata": {
        "colab": {
          "base_uri": "https://localhost:8080/"
        },
        "id": "L5MQdhH3L48O",
        "outputId": "197265eb-9073-4186-9658-21ab426354c0"
      },
      "execution_count": null,
      "outputs": [
        {
          "name": "stdout",
          "output_type": "stream",
          "text": [
            "Please enter a country code: MX\n",
            "Enter a measure name (pop, gdp, ccy, fx): pop\n",
            "Population: 129.2 million people.\n",
            "Please enter a country code: exit\n"
          ]
        }
      ]
    },
    {
      "cell_type": "code",
      "source": [
        "def getParkingHours():\n",
        "  return int(input(\"How many hours are you parked for? \"))\n",
        "\n",
        "def calcParkingFee(hours):\n",
        "  cost = hours*2.5\n",
        "  if cost<6:\n",
        "    return 'min fee: $6.00'\n",
        "  elif cost>20:\n",
        "    return 'max fee: $20.00'\n",
        "  else:\n",
        "    return f'${cost}'\n",
        "\n",
        "Time = getParkingHours()\n",
        "print(f'You owe {calcParkingFee(Time)} for {Time} hours.')"
      ],
      "metadata": {
        "colab": {
          "base_uri": "https://localhost:8080/"
        },
        "id": "XNDYk5jkL46x",
        "outputId": "82c4dd4b-1c2e-4ced-8fde-be767058c558"
      },
      "execution_count": null,
      "outputs": [
        {
          "output_type": "stream",
          "name": "stdout",
          "text": [
            "How many hours are you parked for? 4\n",
            "You owe $10.0 for 4 hours.\n"
          ]
        }
      ]
    },
    {
      "cell_type": "code",
      "source": [
        "def calcTuition(credits):\n",
        "  cost = 1200 + 1700 * credits\n",
        "  if credits >= 12:\n",
        "    return (f'Tuition = ${20000}')\n",
        "  elif credits<1:\n",
        "    return 'invalid number of credits'\n",
        "  else:\n",
        "    return (f'Tuition = ${cost}')\n",
        "\n",
        "n_credits = int(input(\"Enter how many credits are you taking this semester: \"))\n",
        "calcTuition(n_credits)"
      ],
      "metadata": {
        "colab": {
          "base_uri": "https://localhost:8080/",
          "height": 52
        },
        "id": "9f0NjgDTMGrK",
        "outputId": "3ee5de24-0055-452b-a6e5-e607d0885c57"
      },
      "execution_count": null,
      "outputs": [
        {
          "name": "stdout",
          "output_type": "stream",
          "text": [
            "Enter how many credits are you taking this semester: 9\n"
          ]
        },
        {
          "output_type": "execute_result",
          "data": {
            "text/plain": [
              "'Tuition = $16500'"
            ],
            "application/vnd.google.colaboratory.intrinsic+json": {
              "type": "string"
            }
          },
          "metadata": {},
          "execution_count": 3
        }
      ]
    }
  ]
}